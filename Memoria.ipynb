{
 "cells": [
  {
   "cell_type": "code",
   "execution_count": null,
   "id": "initial_id",
   "metadata": {
    "collapsed": true
   },
   "outputs": [],
   "source": ""
  },
  {
   "metadata": {},
   "cell_type": "markdown",
   "source": [
    "# Memoria de Análisis de Datos sobre Conflictos y Acciones Energéticas\n",
    "\n",
    "## 1. Análisis de Conflictos por País:\n",
    "- Se investigaron los datos de la UCDP para identificar países con mayor incidencia de conflictos.\n",
    "- Se priorizó el análisis en los países del Medio Oriente debido a su relevancia geopolítica y su impacto en la seguridad energética.\n",
    "\n",
    "## 2. Análisis de Acciones Energéticas:\n",
    "- Se seleccionaron acciones de empresas energéticas como objetivo de análisis.\n",
    "- Se recopilaron datos históricos de precios de estas acciones para su posterior análisis.\n",
    "\n",
    "## 3. Análisis de Correlación entre Conflictos y Acciones Energéticas:\n",
    "- Se dividió el período de análisis en intervalos de tiempo, coincidiendo con los periodos de conflicto identificados.\n",
    "- Se calcularon correlaciones entre el número de eventos de conflicto y los cambios en los precios de las acciones durante estos intervalos.\n",
    "- \n",
    "## 4. Conclusiones y Recomendaciones (Presentacion):\n",
    "- Se resumieron los hallazgos y conclusiones del análisis.\n",
    "- Se proporcionaron recomendaciones basadas en el análisis para la toma de decisiones futuras en relación con las inversiones en acciones energéticas en el Medio Oriente.\n"
   ],
   "id": "b45cc69724e81efb"
  }
 ],
 "metadata": {
  "kernelspec": {
   "display_name": "Python 3",
   "language": "python",
   "name": "python3"
  },
  "language_info": {
   "codemirror_mode": {
    "name": "ipython",
    "version": 2
   },
   "file_extension": ".py",
   "mimetype": "text/x-python",
   "name": "python",
   "nbconvert_exporter": "python",
   "pygments_lexer": "ipython2",
   "version": "2.7.6"
  }
 },
 "nbformat": 4,
 "nbformat_minor": 5
}
