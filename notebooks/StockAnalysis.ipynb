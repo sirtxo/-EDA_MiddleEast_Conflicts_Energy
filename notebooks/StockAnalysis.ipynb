{
 "cells": [
  {
   "metadata": {},
   "cell_type": "markdown",
   "source": "",
   "id": "46a17ddf1995693b"
  },
  {
   "metadata": {
    "ExecuteTime": {
     "end_time": "2024-05-27T14:38:08.235484Z",
     "start_time": "2024-05-27T14:38:08.229493Z"
    }
   },
   "cell_type": "code",
   "source": [
    "from dateutil.parser import parse \n",
    "import matplotlib as mpl\n",
    "import matplotlib.pyplot as plt\n",
    "import seaborn as sns\n",
    "import numpy as np\n",
    "import pandas as pd\n",
    "plt.rcParams.update({'figure.figsize': (10, 7), 'figure.dpi': 120})"
   ],
   "id": "ce6608fd334e291a",
   "outputs": [],
   "execution_count": 18
  },
  {
   "metadata": {
    "ExecuteTime": {
     "end_time": "2024-05-27T14:38:09.564008Z",
     "start_time": "2024-05-27T14:38:09.524987Z"
    }
   },
   "cell_type": "code",
   "source": "",
   "id": "25a23a4b07d27b32",
   "outputs": [
    {
     "data": {
      "text/plain": [
       "        Date       Open       High        Low      Close  Adj Close  Volume\n",
       "0 2000-01-03  55.599998  57.049999  54.500000  57.000000   0.064604  184093\n",
       "1 2000-01-04  56.500000  56.500000  52.099998  53.000000   0.060071  192154\n",
       "2 2000-01-05  52.099998  52.099998  50.349998  50.750000   0.057521   86948\n",
       "3 2000-01-06  50.750000  50.750000  50.750000  50.750000   0.057521       0\n",
       "4 2000-01-07  50.900002  53.000000  50.049999  52.400002   0.059391  111870"
      ],
      "text/html": [
       "<div>\n",
       "<style scoped>\n",
       "    .dataframe tbody tr th:only-of-type {\n",
       "        vertical-align: middle;\n",
       "    }\n",
       "\n",
       "    .dataframe tbody tr th {\n",
       "        vertical-align: top;\n",
       "    }\n",
       "\n",
       "    .dataframe thead th {\n",
       "        text-align: right;\n",
       "    }\n",
       "</style>\n",
       "<table border=\"1\" class=\"dataframe\">\n",
       "  <thead>\n",
       "    <tr style=\"text-align: right;\">\n",
       "      <th></th>\n",
       "      <th>Date</th>\n",
       "      <th>Open</th>\n",
       "      <th>High</th>\n",
       "      <th>Low</th>\n",
       "      <th>Close</th>\n",
       "      <th>Adj Close</th>\n",
       "      <th>Volume</th>\n",
       "    </tr>\n",
       "  </thead>\n",
       "  <tbody>\n",
       "    <tr>\n",
       "      <th>0</th>\n",
       "      <td>2000-01-03</td>\n",
       "      <td>55.599998</td>\n",
       "      <td>57.049999</td>\n",
       "      <td>54.500000</td>\n",
       "      <td>57.000000</td>\n",
       "      <td>0.064604</td>\n",
       "      <td>184093</td>\n",
       "    </tr>\n",
       "    <tr>\n",
       "      <th>1</th>\n",
       "      <td>2000-01-04</td>\n",
       "      <td>56.500000</td>\n",
       "      <td>56.500000</td>\n",
       "      <td>52.099998</td>\n",
       "      <td>53.000000</td>\n",
       "      <td>0.060071</td>\n",
       "      <td>192154</td>\n",
       "    </tr>\n",
       "    <tr>\n",
       "      <th>2</th>\n",
       "      <td>2000-01-05</td>\n",
       "      <td>52.099998</td>\n",
       "      <td>52.099998</td>\n",
       "      <td>50.349998</td>\n",
       "      <td>50.750000</td>\n",
       "      <td>0.057521</td>\n",
       "      <td>86948</td>\n",
       "    </tr>\n",
       "    <tr>\n",
       "      <th>3</th>\n",
       "      <td>2000-01-06</td>\n",
       "      <td>50.750000</td>\n",
       "      <td>50.750000</td>\n",
       "      <td>50.750000</td>\n",
       "      <td>50.750000</td>\n",
       "      <td>0.057521</td>\n",
       "      <td>0</td>\n",
       "    </tr>\n",
       "    <tr>\n",
       "      <th>4</th>\n",
       "      <td>2000-01-07</td>\n",
       "      <td>50.900002</td>\n",
       "      <td>53.000000</td>\n",
       "      <td>50.049999</td>\n",
       "      <td>52.400002</td>\n",
       "      <td>0.059391</td>\n",
       "      <td>111870</td>\n",
       "    </tr>\n",
       "  </tbody>\n",
       "</table>\n",
       "</div>"
      ]
     },
     "execution_count": 19,
     "metadata": {},
     "output_type": "execute_result"
    }
   ],
   "execution_count": 19
  },
  {
   "metadata": {
    "ExecuteTime": {
     "end_time": "2024-05-28T09:03:51.895984Z",
     "start_time": "2024-05-28T09:03:42.037260Z"
    }
   },
   "cell_type": "code",
   "source": [
    "from notebooks.functions import process_stock_data\n",
    "import pandas as pd\n",
    "import os\n",
    "\n",
    "# Lista de nombres de archivos CSV\n",
    "csv_files = [\n",
    "    'Acciona_data.csv', 'BP plc_data.csv', 'Enagas_data.csv',  'Exxon Mobil Corporation_data.csv', 'Gazprom_data.csv', 'Honeywell International Inc._data.csv',\n",
    "    'Iberdrola_data.csv', 'Kinder Morgan, Inc._data.csv',\n",
    "    'NextEra Energy, Inc._data.csv', 'Repsol_data.csv', 'Saudi Arabian Oil Company (Aramco)_data.csv',\n",
    "    'Schlumberger Limited_data.csv', 'Solaredge Technologies Inc._data.csv' ,'Solaria_data.csv', 'Técnicas Reunidas_data.csv' \n",
    "]\n",
    "\n",
    "\n",
    "# Procesar cada archivo CSV en la lista\n",
    "for file_name in csv_files:\n",
    "    process_stock_data(file_name)\n",
    "\n",
    "print(\"Procesamiento completado.\")\n"
   ],
   "id": "80e7d495522fdb46",
   "outputs": [
    {
     "name": "stdout",
     "output_type": "stream",
     "text": [
      "Procesamiento completado.\n"
     ]
    }
   ],
   "execution_count": 8
  },
  {
   "metadata": {
    "ExecuteTime": {
     "end_time": "2024-05-28T10:39:51.788878Z",
     "start_time": "2024-05-28T10:39:49.621078Z"
    }
   },
   "cell_type": "code",
   "source": [
    "from stoks_view import app\n",
    "app.run_server(mode='inline', debug=True)"
   ],
   "id": "5b4bcb156a442e2b",
   "outputs": [
    {
     "name": "stderr",
     "output_type": "stream",
     "text": [
      "C:\\Users\\pablo\\Desktop\\DATA SCIENCE COURSE\\Finance_EDA\\notebooks\\stoks_view.py:2: UserWarning: \n",
      "The dash_core_components package is deprecated. Please replace\n",
      "`import dash_core_components as dcc` with `from dash import dcc`\n",
      "  import dash_core_components as dcc\n",
      "C:\\Users\\pablo\\Desktop\\DATA SCIENCE COURSE\\Finance_EDA\\notebooks\\stoks_view.py:3: UserWarning: \n",
      "The dash_html_components package is deprecated. Please replace\n",
      "`import dash_html_components as html` with `from dash import html`\n",
      "  import dash_html_components as html\n"
     ]
    },
    {
     "data": {
      "text/plain": [
       "<IPython.lib.display.IFrame at 0x1d5f41f1f00>"
      ],
      "text/html": [
       "\n",
       "        <iframe\n",
       "            width=\"100%\"\n",
       "            height=\"650\"\n",
       "            src=\"http://127.0.0.1:8050/\"\n",
       "            frameborder=\"0\"\n",
       "            allowfullscreen\n",
       "            \n",
       "        ></iframe>\n",
       "        "
      ]
     },
     "metadata": {},
     "output_type": "display_data"
    },
    {
     "ename": "AssertionError",
     "evalue": "The setup method 'errorhandler' can no longer be called on the application. It has already handled its first request, any changes will not be applied consistently.\nMake sure all imports, decorators, functions, etc. needed to set up the application are done before running it.",
     "output_type": "error",
     "traceback": [
      "\u001B[1;31m---------------------------------------------------------------------------\u001B[0m",
      "\u001B[1;31mAssertionError\u001B[0m                            Traceback (most recent call last)",
      "Cell \u001B[1;32mIn[1], line 2\u001B[0m\n\u001B[0;32m      1\u001B[0m \u001B[38;5;28;01mfrom\u001B[39;00m \u001B[38;5;21;01mstoks_view\u001B[39;00m \u001B[38;5;28;01mimport\u001B[39;00m app\n\u001B[1;32m----> 2\u001B[0m \u001B[43mapp\u001B[49m\u001B[38;5;241;43m.\u001B[39;49m\u001B[43mrun_server\u001B[49m\u001B[43m(\u001B[49m\u001B[43mmode\u001B[49m\u001B[38;5;241;43m=\u001B[39;49m\u001B[38;5;124;43m'\u001B[39;49m\u001B[38;5;124;43minline\u001B[39;49m\u001B[38;5;124;43m'\u001B[39;49m\u001B[43m,\u001B[49m\u001B[43m \u001B[49m\u001B[43mdebug\u001B[49m\u001B[38;5;241;43m=\u001B[39;49m\u001B[38;5;28;43;01mTrue\u001B[39;49;00m\u001B[43m)\u001B[49m\n",
      "File \u001B[1;32m~\\AppData\\Local\\Programs\\Python\\Python310\\lib\\site-packages\\dash\\dash.py:2277\u001B[0m, in \u001B[0;36mDash.run_server\u001B[1;34m(self, *args, **kwargs)\u001B[0m\n\u001B[0;32m   2271\u001B[0m \u001B[38;5;28;01mdef\u001B[39;00m \u001B[38;5;21mrun_server\u001B[39m(\u001B[38;5;28mself\u001B[39m, \u001B[38;5;241m*\u001B[39margs, \u001B[38;5;241m*\u001B[39m\u001B[38;5;241m*\u001B[39mkwargs):\n\u001B[0;32m   2272\u001B[0m \u001B[38;5;250m    \u001B[39m\u001B[38;5;124;03m\"\"\"`run_server` is a deprecated alias of `run` and may be removed in a\u001B[39;00m\n\u001B[0;32m   2273\u001B[0m \u001B[38;5;124;03m    future version. We recommend using `app.run` instead.\u001B[39;00m\n\u001B[0;32m   2274\u001B[0m \n\u001B[0;32m   2275\u001B[0m \u001B[38;5;124;03m    See `app.run` for usage information.\u001B[39;00m\n\u001B[0;32m   2276\u001B[0m \u001B[38;5;124;03m    \"\"\"\u001B[39;00m\n\u001B[1;32m-> 2277\u001B[0m     \u001B[38;5;28mself\u001B[39m\u001B[38;5;241m.\u001B[39mrun(\u001B[38;5;241m*\u001B[39margs, \u001B[38;5;241m*\u001B[39m\u001B[38;5;241m*\u001B[39mkwargs)\n",
      "File \u001B[1;32m~\\AppData\\Local\\Programs\\Python\\Python310\\lib\\site-packages\\dash\\dash.py:2099\u001B[0m, in \u001B[0;36mDash.run\u001B[1;34m(self, host, port, proxy, debug, jupyter_mode, jupyter_width, jupyter_height, jupyter_server_url, dev_tools_ui, dev_tools_props_check, dev_tools_serve_dev_bundles, dev_tools_hot_reload, dev_tools_hot_reload_interval, dev_tools_hot_reload_watch_interval, dev_tools_hot_reload_max_retry, dev_tools_silence_routes_logging, dev_tools_prune_errors, **flask_run_options)\u001B[0m\n\u001B[0;32m   2096\u001B[0m \u001B[38;5;28;01mif\u001B[39;00m debug \u001B[38;5;129;01mis\u001B[39;00m \u001B[38;5;28;01mNone\u001B[39;00m:\n\u001B[0;32m   2097\u001B[0m     debug \u001B[38;5;241m=\u001B[39m get_combined_config(\u001B[38;5;124m\"\u001B[39m\u001B[38;5;124mdebug\u001B[39m\u001B[38;5;124m\"\u001B[39m, \u001B[38;5;28;01mNone\u001B[39;00m, \u001B[38;5;28;01mFalse\u001B[39;00m)\n\u001B[1;32m-> 2099\u001B[0m debug \u001B[38;5;241m=\u001B[39m \u001B[38;5;28;43mself\u001B[39;49m\u001B[38;5;241;43m.\u001B[39;49m\u001B[43menable_dev_tools\u001B[49m\u001B[43m(\u001B[49m\n\u001B[0;32m   2100\u001B[0m \u001B[43m    \u001B[49m\u001B[43mdebug\u001B[49m\u001B[43m,\u001B[49m\n\u001B[0;32m   2101\u001B[0m \u001B[43m    \u001B[49m\u001B[43mdev_tools_ui\u001B[49m\u001B[43m,\u001B[49m\n\u001B[0;32m   2102\u001B[0m \u001B[43m    \u001B[49m\u001B[43mdev_tools_props_check\u001B[49m\u001B[43m,\u001B[49m\n\u001B[0;32m   2103\u001B[0m \u001B[43m    \u001B[49m\u001B[43mdev_tools_serve_dev_bundles\u001B[49m\u001B[43m,\u001B[49m\n\u001B[0;32m   2104\u001B[0m \u001B[43m    \u001B[49m\u001B[43mdev_tools_hot_reload\u001B[49m\u001B[43m,\u001B[49m\n\u001B[0;32m   2105\u001B[0m \u001B[43m    \u001B[49m\u001B[43mdev_tools_hot_reload_interval\u001B[49m\u001B[43m,\u001B[49m\n\u001B[0;32m   2106\u001B[0m \u001B[43m    \u001B[49m\u001B[43mdev_tools_hot_reload_watch_interval\u001B[49m\u001B[43m,\u001B[49m\n\u001B[0;32m   2107\u001B[0m \u001B[43m    \u001B[49m\u001B[43mdev_tools_hot_reload_max_retry\u001B[49m\u001B[43m,\u001B[49m\n\u001B[0;32m   2108\u001B[0m \u001B[43m    \u001B[49m\u001B[43mdev_tools_silence_routes_logging\u001B[49m\u001B[43m,\u001B[49m\n\u001B[0;32m   2109\u001B[0m \u001B[43m    \u001B[49m\u001B[43mdev_tools_prune_errors\u001B[49m\u001B[43m,\u001B[49m\n\u001B[0;32m   2110\u001B[0m \u001B[43m\u001B[49m\u001B[43m)\u001B[49m\n\u001B[0;32m   2112\u001B[0m \u001B[38;5;66;03m# Verify port value\u001B[39;00m\n\u001B[0;32m   2113\u001B[0m \u001B[38;5;28;01mtry\u001B[39;00m:\n",
      "File \u001B[1;32m~\\AppData\\Local\\Programs\\Python\\Python310\\lib\\site-packages\\dash\\dash.py:1869\u001B[0m, in \u001B[0;36mDash.enable_dev_tools\u001B[1;34m(self, debug, dev_tools_ui, dev_tools_props_check, dev_tools_serve_dev_bundles, dev_tools_hot_reload, dev_tools_hot_reload_interval, dev_tools_hot_reload_watch_interval, dev_tools_hot_reload_max_retry, dev_tools_silence_routes_logging, dev_tools_prune_errors)\u001B[0m\n\u001B[0;32m   1867\u001B[0m \u001B[38;5;28;01mif\u001B[39;00m debug:\n\u001B[0;32m   1868\u001B[0m     \u001B[38;5;28;01mif\u001B[39;00m jupyter_dash\u001B[38;5;241m.\u001B[39mactive:\n\u001B[1;32m-> 1869\u001B[0m         \u001B[43mjupyter_dash\u001B[49m\u001B[38;5;241;43m.\u001B[39;49m\u001B[43mconfigure_callback_exception_handling\u001B[49m\u001B[43m(\u001B[49m\n\u001B[0;32m   1870\u001B[0m \u001B[43m            \u001B[49m\u001B[38;5;28;43mself\u001B[39;49m\u001B[43m,\u001B[49m\u001B[43m \u001B[49m\u001B[43mdev_tools\u001B[49m\u001B[38;5;241;43m.\u001B[39;49m\u001B[43mprune_errors\u001B[49m\n\u001B[0;32m   1871\u001B[0m \u001B[43m        \u001B[49m\u001B[43m)\u001B[49m\n\u001B[0;32m   1872\u001B[0m     \u001B[38;5;28;01melif\u001B[39;00m dev_tools\u001B[38;5;241m.\u001B[39mprune_errors:\n\u001B[0;32m   1873\u001B[0m         secret \u001B[38;5;241m=\u001B[39m gen_salt(\u001B[38;5;241m20\u001B[39m)\n",
      "File \u001B[1;32m~\\AppData\\Local\\Programs\\Python\\Python310\\lib\\site-packages\\dash\\_jupyter.py:446\u001B[0m, in \u001B[0;36mJupyterDash.configure_callback_exception_handling\u001B[1;34m(self, app, dev_tools_prune_errors)\u001B[0m\n\u001B[0;32m    443\u001B[0m \u001B[38;5;28;01mdef\u001B[39;00m \u001B[38;5;21mconfigure_callback_exception_handling\u001B[39m(\u001B[38;5;28mself\u001B[39m, app, dev_tools_prune_errors):\n\u001B[0;32m    444\u001B[0m \u001B[38;5;250m    \u001B[39m\u001B[38;5;124;03m\"\"\"Install traceback handling for callbacks\"\"\"\u001B[39;00m\n\u001B[1;32m--> 446\u001B[0m     \u001B[38;5;129m@app\u001B[39m\u001B[38;5;241;43m.\u001B[39;49m\u001B[43mserver\u001B[49m\u001B[38;5;241;43m.\u001B[39;49m\u001B[43merrorhandler\u001B[49m\u001B[43m(\u001B[49m\u001B[38;5;167;43;01mException\u001B[39;49;00m\u001B[43m)\u001B[49m\n\u001B[0;32m    447\u001B[0m     \u001B[38;5;28;01mdef\u001B[39;00m \u001B[38;5;21m_wrap_errors\u001B[39m(error):\n\u001B[0;32m    448\u001B[0m         \u001B[38;5;66;03m# Compute number of stack frames to skip to get down to callback\u001B[39;00m\n\u001B[0;32m    449\u001B[0m         skip \u001B[38;5;241m=\u001B[39m _get_skip(error) \u001B[38;5;28;01mif\u001B[39;00m dev_tools_prune_errors \u001B[38;5;28;01melse\u001B[39;00m \u001B[38;5;241m0\u001B[39m\n\u001B[0;32m    451\u001B[0m         \u001B[38;5;66;03m# Customized formatargvalues function we can place function parameters\u001B[39;00m\n\u001B[0;32m    452\u001B[0m         \u001B[38;5;66;03m# on separate lines\u001B[39;00m\n",
      "File \u001B[1;32m~\\AppData\\Local\\Programs\\Python\\Python310\\lib\\site-packages\\flask\\sansio\\scaffold.py:46\u001B[0m, in \u001B[0;36msetupmethod.<locals>.wrapper_func\u001B[1;34m(self, *args, **kwargs)\u001B[0m\n\u001B[0;32m     45\u001B[0m \u001B[38;5;28;01mdef\u001B[39;00m \u001B[38;5;21mwrapper_func\u001B[39m(\u001B[38;5;28mself\u001B[39m: Scaffold, \u001B[38;5;241m*\u001B[39margs: t\u001B[38;5;241m.\u001B[39mAny, \u001B[38;5;241m*\u001B[39m\u001B[38;5;241m*\u001B[39mkwargs: t\u001B[38;5;241m.\u001B[39mAny) \u001B[38;5;241m-\u001B[39m\u001B[38;5;241m>\u001B[39m t\u001B[38;5;241m.\u001B[39mAny:\n\u001B[1;32m---> 46\u001B[0m     \u001B[38;5;28;43mself\u001B[39;49m\u001B[38;5;241;43m.\u001B[39;49m\u001B[43m_check_setup_finished\u001B[49m\u001B[43m(\u001B[49m\u001B[43mf_name\u001B[49m\u001B[43m)\u001B[49m\n\u001B[0;32m     47\u001B[0m     \u001B[38;5;28;01mreturn\u001B[39;00m f(\u001B[38;5;28mself\u001B[39m, \u001B[38;5;241m*\u001B[39margs, \u001B[38;5;241m*\u001B[39m\u001B[38;5;241m*\u001B[39mkwargs)\n",
      "File \u001B[1;32m~\\AppData\\Local\\Programs\\Python\\Python310\\lib\\site-packages\\flask\\sansio\\app.py:415\u001B[0m, in \u001B[0;36mApp._check_setup_finished\u001B[1;34m(self, f_name)\u001B[0m\n\u001B[0;32m    413\u001B[0m \u001B[38;5;28;01mdef\u001B[39;00m \u001B[38;5;21m_check_setup_finished\u001B[39m(\u001B[38;5;28mself\u001B[39m, f_name: \u001B[38;5;28mstr\u001B[39m) \u001B[38;5;241m-\u001B[39m\u001B[38;5;241m>\u001B[39m \u001B[38;5;28;01mNone\u001B[39;00m:\n\u001B[0;32m    414\u001B[0m     \u001B[38;5;28;01mif\u001B[39;00m \u001B[38;5;28mself\u001B[39m\u001B[38;5;241m.\u001B[39m_got_first_request:\n\u001B[1;32m--> 415\u001B[0m         \u001B[38;5;28;01mraise\u001B[39;00m \u001B[38;5;167;01mAssertionError\u001B[39;00m(\n\u001B[0;32m    416\u001B[0m             \u001B[38;5;124mf\u001B[39m\u001B[38;5;124m\"\u001B[39m\u001B[38;5;124mThe setup method \u001B[39m\u001B[38;5;124m'\u001B[39m\u001B[38;5;132;01m{\u001B[39;00mf_name\u001B[38;5;132;01m}\u001B[39;00m\u001B[38;5;124m'\u001B[39m\u001B[38;5;124m can no longer be called\u001B[39m\u001B[38;5;124m\"\u001B[39m\n\u001B[0;32m    417\u001B[0m             \u001B[38;5;124m\"\u001B[39m\u001B[38;5;124m on the application. It has already handled its first\u001B[39m\u001B[38;5;124m\"\u001B[39m\n\u001B[0;32m    418\u001B[0m             \u001B[38;5;124m\"\u001B[39m\u001B[38;5;124m request, any changes will not be applied\u001B[39m\u001B[38;5;124m\"\u001B[39m\n\u001B[0;32m    419\u001B[0m             \u001B[38;5;124m\"\u001B[39m\u001B[38;5;124m consistently.\u001B[39m\u001B[38;5;130;01m\\n\u001B[39;00m\u001B[38;5;124m\"\u001B[39m\n\u001B[0;32m    420\u001B[0m             \u001B[38;5;124m\"\u001B[39m\u001B[38;5;124mMake sure all imports, decorators, functions, etc.\u001B[39m\u001B[38;5;124m\"\u001B[39m\n\u001B[0;32m    421\u001B[0m             \u001B[38;5;124m\"\u001B[39m\u001B[38;5;124m needed to set up the application are done before\u001B[39m\u001B[38;5;124m\"\u001B[39m\n\u001B[0;32m    422\u001B[0m             \u001B[38;5;124m\"\u001B[39m\u001B[38;5;124m running it.\u001B[39m\u001B[38;5;124m\"\u001B[39m\n\u001B[0;32m    423\u001B[0m         )\n",
      "\u001B[1;31mAssertionError\u001B[0m: The setup method 'errorhandler' can no longer be called on the application. It has already handled its first request, any changes will not be applied consistently.\nMake sure all imports, decorators, functions, etc. needed to set up the application are done before running it."
     ]
    }
   ],
   "execution_count": 1
  }
 ],
 "metadata": {
  "kernelspec": {
   "display_name": "Python 3",
   "language": "python",
   "name": "python3"
  },
  "language_info": {
   "codemirror_mode": {
    "name": "ipython",
    "version": 2
   },
   "file_extension": ".py",
   "mimetype": "text/x-python",
   "name": "python",
   "nbconvert_exporter": "python",
   "pygments_lexer": "ipython2",
   "version": "2.7.6"
  }
 },
 "nbformat": 4,
 "nbformat_minor": 5
}
