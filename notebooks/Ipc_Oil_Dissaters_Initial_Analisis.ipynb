{
 "cells": [
  {
   "metadata": {
    "ExecuteTime": {
     "end_time": "2024-05-21T13:26:50.887993Z",
     "start_time": "2024-05-21T13:26:49.647607Z"
    }
   },
   "cell_type": "code",
   "source": [
    "import pandas as pd\n",
    "from datetime import datetime, timedelta\n",
    "\n",
    "# Función para convertir el timestamp a fecha legible\n",
    "def convert_timestamp(timestamp):\n",
    "    return datetime.utcfromtimestamp(timestamp / 1000).strftime('%Y-%m-%d')\n",
    "\n",
    "# Cargar los datos desde los archivos JSON\n",
    "ipc_europe = pd.read_json('../docs/investing ipc-mensual-europa-928.json', orient='records')\n",
    "ipc_eeuu = pd.read_json('../docs/investing_ipc-mensual-eeu-69.json', orient='records')\n",
    "\n",
    "# Crear DataFrame a partir de la columna 'data' y asignar nombres de columnas\n",
    "ipc_eeuu_df = pd.DataFrame(ipc_eeuu['data'].to_list(), columns=['timestamp', 'change_ipc_eeuu', 'trend_ipc_eeuu'])\n",
    "ipc_europe_df = pd.DataFrame(ipc_europe['data'].to_list(), columns=['timestamp', 'change_ipc_europe', 'trend_ipc_europe'])\n",
    "\n",
    "# Convertir el timestamp a fecha legible para ambos DataFrames\n",
    "ipc_eeuu_df['date_ipc_eeuu'] = pd.to_datetime(ipc_eeuu_df['timestamp'] / 1000, unit='s').dt.strftime('%Y-%m-%dT%H:%M:%S')\n",
    "ipc_europe_df['date_ipc_europe'] = pd.to_datetime(ipc_europe_df['timestamp'] / 1000, unit='s').dt.strftime('%Y-%m-%dT%H:%M:%S')\n",
    "\n",
    "# Ordenar por fecha\n",
    "ipc_eeuu_df = ipc_eeuu_df.sort_values(by='date_ipc_eeuu').reset_index(drop=True)\n",
    "ipc_europe_df = ipc_europe_df.sort_values(by='date_ipc_europe').reset_index(drop=True)\n",
    "\n",
    "# Eliminar la columna 'timestamp'\n",
    "ipc_eeuu_df.drop(columns=['timestamp'], inplace=True)\n",
    "ipc_europe_df.drop(columns=['timestamp'], inplace=True)\n",
    "\n",
    "# Función para rellenar fechas faltantes con interpolación\n",
    "def fill_missing_dates(df, date_column, change_column):\n",
    "    # Crear un rango completo de fechas desde la primera hasta la última fecha en el DataFrame\n",
    "    full_date_range = pd.date_range(start=df[date_column].min(), end=df[date_column].max())\n",
    "    \n",
    "    # Crear un DataFrame con el rango completo de fechas\n",
    "    full_df = pd.DataFrame({date_column: full_date_range})\n",
    "    \n",
    "    # Convertir la columna de fecha al tipo datetime64[ns]\n",
    "    df[date_column] = pd.to_datetime(df[date_column])\n",
    "    \n",
    "    # Unir el DataFrame original con el DataFrame de fechas completas\n",
    "    merged_df = pd.merge(full_df, df, on=date_column, how='left')\n",
    "    \n",
    "    # Rellenar los valores de 'change' interpolando\n",
    "    merged_df[change_column] = merged_df[change_column].interpolate()\n",
    "    \n",
    "    return merged_df\n",
    "\n",
    "# Aplicar la función para rellenar fechas faltantes en ambos DataFrames\n",
    "filled_ipc_eeuu_df = fill_missing_dates(ipc_eeuu_df, 'date_ipc_eeuu', 'change_ipc_eeuu')\n",
    "filled_ipc_europe_df = fill_missing_dates(ipc_europe_df, 'date_ipc_europe', 'change_ipc_europe')\n",
    "\n",
    "# Asignar valores a 'trend' basado en cambios en 'change'\n",
    "def assign_trend_based_on_change(df, change_column, trend_column):\n",
    "    df[trend_column] = (df[change_column].diff() > 0).astype(int)\n",
    "    df[trend_column].mask(df[change_column].diff() == 0, inplace=True)  # Si el cambio es 0, dejar 'trend' como NaN\n",
    "    df[trend_column].fillna(2, inplace=True)  # Reemplazar NaN con 2\n",
    "    return df\n",
    "\n",
    "filled_ipc_eeuu_df = assign_trend_based_on_change(filled_ipc_eeuu_df, 'change_ipc_eeuu', 'trend_ipc_eeuu')\n",
    "filled_ipc_europe_df = assign_trend_based_on_change(filled_ipc_europe_df, 'change_ipc_europe', 'trend_ipc_europe')\n",
    "\n",
    "# Guardar los DataFrames en archivos CSV con la fecha en formato ISO con 'T'\n",
    "filled_ipc_eeuu_df['date_ipc_eeuu'] = filled_ipc_eeuu_df['date_ipc_eeuu'].dt.strftime('%Y-%m-%dT%H:%M:%S')\n",
    "filled_ipc_europe_df['date_ipc_europe'] = filled_ipc_europe_df['date_ipc_europe'].dt.strftime('%Y-%m-%dT%H:%M:%S')\n",
    "\n",
    "filled_ipc_eeuu_df.to_csv('../docs/filled_ipc_eeuu.csv', index=False)\n",
    "filled_ipc_europe_df.to_csv('../docs/filled_ipc_europe.csv', index=False)\n",
    "\n",
    "\n",
    "\n",
    "# Unir los DataFrames por la columna 'date'\n",
    "merged_df = pd.merge(filled_ipc_eeuu_df, filled_ipc_europe_df, left_on='date_ipc_eeuu', right_on='date_ipc_europe', how='inner')\n",
    "\n",
    "# Mantener la columna de fecha de la izquierda y eliminar la de la derecha\n",
    "merged_df = merged_df.drop(columns=['date_ipc_europe']).rename(columns={'date_ipc_eeuu': 'date'})\n",
    "\n",
    "# Guardar el DataFrame resultante en un archivo CSV\n",
    "merged_df.to_csv('../docs/merged_ipc.csv', index=False)\n",
    "\n",
    "print(\"Merge complete. The merged dataframe has been saved to '../docs/merged_ipc.csv'\")"
   ],
   "id": "21bd0480f8342fbc",
   "outputs": [
    {
     "name": "stdout",
     "output_type": "stream",
     "text": [
      "Merge complete. The merged dataframe has been saved to '../docs/merged_ipc.csv'\n"
     ]
    }
   ],
   "execution_count": 6
  },
  {
   "metadata": {
    "ExecuteTime": {
     "end_time": "2024-05-21T13:41:05.389761Z",
     "start_time": "2024-05-21T13:41:05.238188Z"
    }
   },
   "cell_type": "code",
   "source": [
    "import pandas as pd\n",
    "\n",
    "# Cargar los datos desde los archivos CSV\n",
    "brent_df = pd.read_csv('../docs/Brent Oil Futures Historical Data.csv')\n",
    "wti_df = pd.read_csv('../docs/Crude Oil WTI Futures Historical Data.csv')\n",
    "\n",
    "# Renombrar las columnas para diferenciarlas entre Brent y WTI\n",
    "brent_df = brent_df.rename(columns=lambda x: f'{x}_brent' if x != 'Date' else 'Date')\n",
    "wti_df = wti_df.rename(columns=lambda x: f'{x}_wti' if x != 'Date' else 'Date')\n",
    "\n",
    "# Convertir la columna de fecha a datetime\n",
    "brent_df['Date'] = pd.to_datetime(brent_df['Date'])\n",
    "wti_df['Date'] = pd.to_datetime(wti_df['Date'])\n",
    "\n",
    "# Ordenar por fecha\n",
    "brent_df = brent_df.sort_values(by='Date').reset_index(drop=True)\n",
    "wti_df = wti_df.sort_values(by='Date').reset_index(drop=True)\n",
    "\n",
    "# Unir los DataFrames por la columna 'Date'\n",
    "merged_df = pd.merge(brent_df, wti_df, on='Date', how='inner')\n",
    "\n",
    "# Guardar el DataFrame resultante en un archivo CSV\n",
    "merged_df.to_csv('../docs/merged_oil_futures.csv', index=False)\n",
    "\n",
    "print(\"Merge complete. The merged dataframe has been saved to '../docs/merged_oil_futures.csv'\")\n"
   ],
   "id": "a7ab983b70e21893",
   "outputs": [
    {
     "name": "stdout",
     "output_type": "stream",
     "text": [
      "Merge complete. The merged dataframe has been saved to '../docs/merged_oil_futures.csv'\n"
     ]
    }
   ],
   "execution_count": 9
  }
 ],
 "metadata": {
  "kernelspec": {
   "display_name": "Python 3",
   "language": "python",
   "name": "python3"
  },
  "language_info": {
   "codemirror_mode": {
    "name": "ipython",
    "version": 2
   },
   "file_extension": ".py",
   "mimetype": "text/x-python",
   "name": "python",
   "nbconvert_exporter": "python",
   "pygments_lexer": "ipython2",
   "version": "2.7.6"
  }
 },
 "nbformat": 4,
 "nbformat_minor": 5
}
