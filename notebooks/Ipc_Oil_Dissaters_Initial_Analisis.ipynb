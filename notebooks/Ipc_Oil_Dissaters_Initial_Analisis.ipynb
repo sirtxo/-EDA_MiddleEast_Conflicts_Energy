{
 "cells": [
  {
   "metadata": {
    "ExecuteTime": {
     "end_time": "2024-05-21T11:03:07.670560Z",
     "start_time": "2024-05-21T11:03:07.094799Z"
    }
   },
   "cell_type": "code",
   "source": [
    "import pandas as pd\n",
    "from datetime import datetime, timedelta\n",
    "\n",
    "# Función para convertir el timestamp a fecha legible\n",
    "def convert_timestamp(timestamp):\n",
    "    return datetime.utcfromtimestamp(timestamp / 1000).strftime('%Y-%m-%d')\n",
    "\n",
    "# Cargar los datos desde los archivos JSON\n",
    "ipc_europe = pd.read_json('../docs/investing ipc-mensual-europa-928.json', orient='records')\n",
    "ipc_eeuu = pd.read_json('../docs/investing_ipc-mensual-eeu-69.json', orient='records')\n",
    "\n",
    "# Crear DataFrame a partir de la columna 'data' y asignar nombres de columnas\n",
    "ipc_eeuu_df = pd.DataFrame(ipc_eeuu['data'].to_list(), columns=['timestamp', 'change', 'trend'])\n",
    "ipc_europe_df = pd.DataFrame(ipc_europe['data'].to_list(), columns=['timestamp', 'change', 'trend'])\n",
    "\n",
    "# Convertir el timestamp a fecha legible para ambos DataFrames\n",
    "ipc_eeuu_df['date'] = pd.to_datetime(ipc_eeuu_df['timestamp'] / 1000, unit='s').dt.strftime('%Y-%m-%dT%H:%M:%S')\n",
    "ipc_europe_df['date'] = pd.to_datetime(ipc_europe_df['timestamp'] / 1000, unit='s').dt.strftime('%Y-%m-%dT%H:%M:%S')\n",
    "\n",
    "# Ordenar por fecha\n",
    "ipc_eeuu_df = ipc_eeuu_df.sort_values(by='date').reset_index(drop=True)\n",
    "ipc_europe_df = ipc_europe_df.sort_values(by='date').reset_index(drop=True)\n",
    "\n",
    "# Eliminar la columna 'timestamp'\n",
    "ipc_eeuu_df.drop(columns=['timestamp'], inplace=True)\n",
    "ipc_europe_df.drop(columns=['timestamp'], inplace=True)\n",
    "\n",
    "# Función para rellenar fechas faltantes con interpolación\n",
    "def fill_missing_dates(df):\n",
    "    # Crear un rango completo de fechas desde la primera hasta la última fecha en el DataFrame\n",
    "    full_date_range = pd.date_range(start=df['date'].min(), end=df['date'].max())\n",
    "    \n",
    "    # Crear un DataFrame con el rango completo de fechas\n",
    "    full_df = pd.DataFrame({'date': full_date_range})\n",
    "    \n",
    "    # Convertir la columna 'date' al tipo datetime64[ns]\n",
    "    df['date'] = pd.to_datetime(df['date'])\n",
    "    \n",
    "    # Unir el DataFrame original con el DataFrame de fechas completas\n",
    "    merged_df = pd.merge(full_df, df, on='date', how='left')\n",
    "    \n",
    "    # Rellenar los valores de 'change' interpolando\n",
    "    merged_df['change'] = merged_df['change'].interpolate()\n",
    "    \n",
    "    return merged_df\n",
    "\n",
    "\n",
    "# Aplicar la función para rellenar fechas faltantes en ambos DataFrames\n",
    "filled_ipc_eeuu_df = fill_missing_dates(ipc_eeuu_df)\n",
    "filled_ipc_europe_df = fill_missing_dates(ipc_europe_df)\n",
    "\n",
    "# Asignar valores a 'trend' basado en cambios en 'change'\n",
    "def assign_trend_based_on_change(df):\n",
    "    df['trend'] = (df['change'].diff() > 0).astype(int)\n",
    "    df['trend'].mask(df['change'].diff() == 0, inplace=True)  # Si el cambio es 0, dejar 'trend' como NaN\n",
    "    df['trend'].fillna(2, inplace=True)  # Reemplazar NaN con 2\n",
    "    return df\n",
    "\n",
    "filled_ipc_eeuu_df = assign_trend_based_on_change(filled_ipc_eeuu_df)\n",
    "filled_ipc_europe_df = assign_trend_based_on_change(filled_ipc_europe_df)\n",
    "\n",
    "# Guardar los DataFrames en archivos CSV con la fecha en formato ISO con 'T'\n",
    "filled_ipc_eeuu_df['date'] = filled_ipc_eeuu_df['date'].dt.strftime('%Y-%m-%dT%H:%M:%S')\n",
    "filled_ipc_europe_df['date'] = filled_ipc_europe_df['date'].dt.strftime('%Y-%m-%dT%H:%M:%S')\n",
    "\n",
    "filled_ipc_eeuu_df.to_csv('../docs/filled_ipc_eeuu.csv', index=False)\n",
    "filled_ipc_europe_df.to_csv('../docs/filled_ipc_europe.csv', index=False)\n"
   ],
   "id": "21bd0480f8342fbc",
   "outputs": [],
   "execution_count": 45
  }
 ],
 "metadata": {
  "kernelspec": {
   "display_name": "Python 3",
   "language": "python",
   "name": "python3"
  },
  "language_info": {
   "codemirror_mode": {
    "name": "ipython",
    "version": 2
   },
   "file_extension": ".py",
   "mimetype": "text/x-python",
   "name": "python",
   "nbconvert_exporter": "python",
   "pygments_lexer": "ipython2",
   "version": "2.7.6"
  }
 },
 "nbformat": 4,
 "nbformat_minor": 5
}
